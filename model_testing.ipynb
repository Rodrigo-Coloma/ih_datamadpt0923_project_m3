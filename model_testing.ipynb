{
 "cells": [
  {
   "cell_type": "code",
   "execution_count": 1,
   "metadata": {},
   "outputs": [],
   "source": [
    "import pandas as pd\n",
    "from sklearn.model_selection import GridSearchCV\n",
    "from xgboost import XGBRegressor, plot_importance\n",
    "import seaborn as sns\n",
    "import numpy as np\n",
    "import matplotlib.pyplot as plt\n",
    "import pickle"
   ]
  },
  {
   "cell_type": "markdown",
   "metadata": {},
   "source": [
    "data loading"
   ]
  },
  {
   "cell_type": "code",
   "execution_count": 8,
   "metadata": {},
   "outputs": [],
   "source": [
    "df_train = pd.read_csv('./data/clean/diamondsdl3feallcso3_7x2.csv')\n",
    "df_test = pd.read_csv('./data/clean/testdl3feallcso3_7x2.csv')\n"
   ]
  },
  {
   "cell_type": "code",
   "execution_count": 9,
   "metadata": {},
   "outputs": [],
   "source": [
    "# We define X and y\n"
   ]
  },
  {
   "cell_type": "code",
   "execution_count": 10,
   "metadata": {},
   "outputs": [],
   "source": [
    "xgb_model = XGBRegressor( missing=np.inf, enable_categorical=True)\n",
    "\n",
    "# Optimal gridsearch with data labeling\n",
    "\n",
    "param_grid_broad ={'colsample_bytree': [0.62],\n",
    "                    'learning_rate': [0.0062,0.0065,0.0067],\n",
    "                      'max_depth': [7],\n",
    "                        'n_estimators': [2050,2100,2150],\n",
    "                          'subsample': [0.95],\n",
    "                            'gamma' :[0],\n",
    "                              'missing': [np.inf]} \n",
    "param_grid_fine2 ={'colsample_bytree': [0.064,0.68],\n",
    "                    'learning_rate': [0.0126, 0.0127,0.0128],\n",
    "                      'max_depth': [7],\n",
    "                        'n_estimators': [1130,1140,1150],\n",
    "                          'subsample': [0.95],\n",
    "                            'gamma' :[0],\n",
    "                              'missing': [np.inf]} "
   ]
  },
  {
   "cell_type": "code",
   "execution_count": 12,
   "metadata": {},
   "outputs": [
    {
     "name": "stdout",
     "output_type": "stream",
     "text": [
      "Fitting 5 folds for each of 9 candidates, totalling 45 fits\n",
      "Best parameters found:  {'colsample_bytree': 0.62, 'gamma': 0, 'learning_rate': 0.0062, 'max_depth': 7, 'missing': inf, 'n_estimators': 2050, 'subsample': 0.95}\n",
      "Best score found:  -515.9909437329691\n"
     ]
    }
   ],
   "source": [
    "\n",
    "# Initialize GridSearchCV\n",
    "grid_search = GridSearchCV(estimator= xgb_model, param_grid=param_grid_broad, cv=5, n_jobs=-1, verbose=3, scoring='neg_root_mean_squared_error')\n",
    "\n",
    "# Fit the GridSearchCV instance to the training data\n",
    "grid_search.fit(X, y)\n",
    "\n",
    "# Get the best parameters and the best score\n",
    "best_params = grid_search.best_params_\n",
    "best_score = grid_search.best_score_\n",
    "\n",
    "print(\"Best parameters found: \", best_params)\n",
    "print(\"Best score found: \", best_score)\n",
    "\n",
    "best_model = grid_search.best_estimator_"
   ]
  },
  {
   "cell_type": "code",
   "execution_count": null,
   "metadata": {},
   "outputs": [],
   "source": []
  },
  {
   "cell_type": "code",
   "execution_count": null,
   "metadata": {},
   "outputs": [],
   "source": []
  }
 ],
 "metadata": {
  "kernelspec": {
   "display_name": "sepsis",
   "language": "python",
   "name": "python3"
  },
  "language_info": {
   "codemirror_mode": {
    "name": "ipython",
    "version": 3
   },
   "file_extension": ".py",
   "mimetype": "text/x-python",
   "name": "python",
   "nbconvert_exporter": "python",
   "pygments_lexer": "ipython3",
   "version": "3.12.1"
  }
 },
 "nbformat": 4,
 "nbformat_minor": 2
}
